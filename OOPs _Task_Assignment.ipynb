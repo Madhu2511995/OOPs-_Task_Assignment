{
 "cells": [
  {
   "cell_type": "markdown",
   "id": "56f6ea19-c2ad-4c68-b375-84a2fd065ea1",
   "metadata": {},
   "source": [
    "Q1, Create a vehicle class with an init method having instance variables as name_of_vehicle, max_speed\n",
    "and average_of_vehicle.\n",
    "\n",
    "Q2. Create a child class car from the vehicle class created in Que 1, which will inherit the vehicle class.\n",
    "Create a method named seating_capacity which takes capacity as an argument and returns the name of\n",
    "the vehicle and its seating capacity.\n",
    "\n",
    "Q3. What is multiple inheritance? Write a python code to demonstrate multiple inheritance.\n",
    "\n",
    "Q4. What are getter and setter in python? Create a class and create a getter and a setter method in this\n",
    "class.\n",
    "\n",
    "Q5.What is method overriding in python? Write a python code to demonstrate method overriding.\n"
   ]
  },
  {
   "cell_type": "markdown",
   "id": "989d58ba-0741-47c6-a6c8-323478340470",
   "metadata": {},
   "source": [
    "Implementation"
   ]
  },
  {
   "cell_type": "markdown",
   "id": "62df867d-872f-4d58-89d4-51dc4b763508",
   "metadata": {},
   "source": [
    "Q1, Create a vehicle class with an init method having instance variables as name_of_vehicle, max_speed and average_of_vehicle."
   ]
  },
  {
   "cell_type": "code",
   "execution_count": 16,
   "id": "cb94458b-41d0-420f-9430-db8d90fdbd3b",
   "metadata": {},
   "outputs": [],
   "source": [
    "class vehicle:\n",
    "    def __init__(self,name_of_vehicle, max_speed,average_of_vehicle):\n",
    "        self.name_of_vehicle=name_of_vehicle\n",
    "        self.max_speed=max_speed\n",
    "        self.average_of_vehicle=average_of_vehicle      "
   ]
  },
  {
   "cell_type": "markdown",
   "id": "c25fbc55-cda3-4278-aa64-ca7e9514b050",
   "metadata": {},
   "source": [
    "Q2. Create a child class car from the vehicle class created in Que 1, which will inherit the vehicle class. Create a method named seating_capacity which takes capacity as an argument and returns the name of the vehicle and its seating capacity."
   ]
  },
  {
   "cell_type": "code",
   "execution_count": 29,
   "id": "c76ab007-d9ea-49aa-ac42-f7e5e9c3a208",
   "metadata": {},
   "outputs": [],
   "source": [
    "class car(vehicle):\n",
    "    def seating_capacity(self,capacity):\n",
    "        return self.name_of_vehicle,capacity"
   ]
  },
  {
   "cell_type": "code",
   "execution_count": 30,
   "id": "5e45cc61-2562-4193-9704-489f43444f30",
   "metadata": {},
   "outputs": [],
   "source": [
    "obj_car=car(\"Creata\",100,80)\n"
   ]
  },
  {
   "cell_type": "code",
   "execution_count": 31,
   "id": "e4ee915d-d9a7-4acc-a1dd-6493d332c682",
   "metadata": {},
   "outputs": [
    {
     "data": {
      "text/plain": [
       "('Creata', 4)"
      ]
     },
     "execution_count": 31,
     "metadata": {},
     "output_type": "execute_result"
    }
   ],
   "source": [
    "obj_car.seating_capacity(4)\n"
   ]
  },
  {
   "cell_type": "markdown",
   "id": "86d6403a-2bdc-403d-8e43-89e4f9ba3c59",
   "metadata": {},
   "source": [
    "Q3. What is multiple inheritance? Write a python code to demonstrate multiple inheritance."
   ]
  },
  {
   "cell_type": "markdown",
   "id": "7b2ec72a-c421-45d5-938e-be9ce22fa793",
   "metadata": {},
   "source": [
    "Multiple inheritance is the inheeritence which extract the method behavior of more than one child classes\n",
    "Ex-\n",
    "class A:\n",
    "    pass\n",
    "class B:\n",
    "    pass\n",
    "class C(A,B):\n",
    "    Pass"
   ]
  },
  {
   "cell_type": "code",
   "execution_count": 32,
   "id": "8bbbb28a-7bdf-4e08-9a68-73b30730ea91",
   "metadata": {},
   "outputs": [],
   "source": [
    "class mother:\n",
    "    def fun_mother(self):\n",
    "        return \"Do that thing which i told\"\n",
    "class father:\n",
    "    def fun_father(self):\n",
    "        return \"Do that thing which you like\"\n",
    "class child(mother,father):\n",
    "    pass"
   ]
  },
  {
   "cell_type": "code",
   "execution_count": 33,
   "id": "2f3eb918-0979-46c4-a31b-08693a7c048d",
   "metadata": {},
   "outputs": [],
   "source": [
    "obj_child=child()"
   ]
  },
  {
   "cell_type": "code",
   "execution_count": 34,
   "id": "71b203f7-251e-4ed7-8a27-115d57399299",
   "metadata": {},
   "outputs": [
    {
     "data": {
      "text/plain": [
       "'Do that thing which i told'"
      ]
     },
     "execution_count": 34,
     "metadata": {},
     "output_type": "execute_result"
    }
   ],
   "source": [
    "obj_child.fun_mother()"
   ]
  },
  {
   "cell_type": "code",
   "execution_count": 35,
   "id": "c7b89806-3bb7-4e5f-8fed-4e4608c0808d",
   "metadata": {},
   "outputs": [
    {
     "data": {
      "text/plain": [
       "'Do that thing which you like'"
      ]
     },
     "execution_count": 35,
     "metadata": {},
     "output_type": "execute_result"
    }
   ],
   "source": [
    "obj_child.fun_father()"
   ]
  },
  {
   "cell_type": "markdown",
   "id": "73306e3b-ed54-416e-8742-ed4fbb5b73f9",
   "metadata": {},
   "source": [
    "Q4. What are getter and setter in python? Create a class and create a getter and a setter method in this class."
   ]
  },
  {
   "cell_type": "markdown",
   "id": "767b86f5-8d7e-46d8-b896-714e08d5377d",
   "metadata": {},
   "source": [
    "Getter ===> Getter method is method which is use to find out the values of class"
   ]
  },
  {
   "cell_type": "markdown",
   "id": "8127780d-46f5-40a0-97fd-8de9ef77ceb2",
   "metadata": {},
   "source": [
    "Setter ===> Setter method is method which is use to set the values of class "
   ]
  },
  {
   "cell_type": "code",
   "execution_count": 41,
   "id": "a575a56b-3ea9-456d-8e53-92f951434b77",
   "metadata": {},
   "outputs": [],
   "source": [
    "class demo:\n",
    "    def __init__(self,subject,marks):\n",
    "        self.subject=subject\n",
    "        self.marks=marks\n",
    "    def get_details(self):\n",
    "        return self.subject,self.marks\n",
    "    def set_details(self,improvement):\n",
    "        self.marks=self.marks+improvement"
   ]
  },
  {
   "cell_type": "code",
   "execution_count": 46,
   "id": "c4ee34b7-dba7-4a1b-9c1a-c0a2694f310a",
   "metadata": {},
   "outputs": [],
   "source": [
    "obj_demo=demo(\"Math\",90)"
   ]
  },
  {
   "cell_type": "code",
   "execution_count": 47,
   "id": "72476b91-47b3-4bb8-8a58-f6f3ee4220f0",
   "metadata": {},
   "outputs": [
    {
     "data": {
      "text/plain": [
       "('Math', 90)"
      ]
     },
     "execution_count": 47,
     "metadata": {},
     "output_type": "execute_result"
    }
   ],
   "source": [
    "obj_demo.get_details()"
   ]
  },
  {
   "cell_type": "code",
   "execution_count": 48,
   "id": "ae196d5a-0ea9-4acd-af50-817169e4756e",
   "metadata": {},
   "outputs": [],
   "source": [
    "obj_demo.set_details(5)"
   ]
  },
  {
   "cell_type": "code",
   "execution_count": 49,
   "id": "457a0a6a-67bf-47b3-a430-7f80b3c1d36e",
   "metadata": {},
   "outputs": [
    {
     "data": {
      "text/plain": [
       "('Math', 95)"
      ]
     },
     "execution_count": 49,
     "metadata": {},
     "output_type": "execute_result"
    }
   ],
   "source": [
    "obj_demo.get_details()"
   ]
  },
  {
   "cell_type": "markdown",
   "id": "390c42f1-5d8d-4bf4-97eb-298beaf5724b",
   "metadata": {},
   "source": [
    "Q5.What is method overriding in python? Write a python code to demonstrate method overriding."
   ]
  },
  {
   "cell_type": "markdown",
   "id": "dee24bad-784c-4b3e-a9af-3f9f0007da78",
   "metadata": {},
   "source": [
    "Method Overriding ===> If one method is define more than one class then last one is consider this is called method overriding"
   ]
  },
  {
   "cell_type": "code",
   "execution_count": 57,
   "id": "479f2c6e-52fa-4434-a648-19fa849a8686",
   "metadata": {},
   "outputs": [],
   "source": [
    "class student:\n",
    "    def student_info(self,subject,marks):\n",
    "        return subject,marks\n",
    "class student1(student):\n",
    "    def student_info(self,subject,marks,phone):\n",
    "        return subject,marks,phone"
   ]
  },
  {
   "cell_type": "code",
   "execution_count": 58,
   "id": "3fe3b438-dd58-4bcf-9ced-9b6abb72f4bd",
   "metadata": {},
   "outputs": [],
   "source": [
    "obj_s1=student1()"
   ]
  },
  {
   "cell_type": "code",
   "execution_count": 59,
   "id": "8d8b7502-f75b-4ea4-a7e0-ba0bd6e4ebcd",
   "metadata": {},
   "outputs": [
    {
     "ename": "TypeError",
     "evalue": "student1.student_info() missing 1 required positional argument: 'phone'",
     "output_type": "error",
     "traceback": [
      "\u001b[0;31m---------------------------------------------------------------------------\u001b[0m",
      "\u001b[0;31mTypeError\u001b[0m                                 Traceback (most recent call last)",
      "Cell \u001b[0;32mIn[59], line 1\u001b[0m\n\u001b[0;32m----> 1\u001b[0m \u001b[43mobj_s1\u001b[49m\u001b[38;5;241;43m.\u001b[39;49m\u001b[43mstudent_info\u001b[49m\u001b[43m(\u001b[49m\u001b[38;5;124;43m\"\u001b[39;49m\u001b[38;5;124;43mMath\u001b[39;49m\u001b[38;5;124;43m\"\u001b[39;49m\u001b[43m,\u001b[49m\u001b[38;5;241;43m80\u001b[39;49m\u001b[43m)\u001b[49m\n",
      "\u001b[0;31mTypeError\u001b[0m: student1.student_info() missing 1 required positional argument: 'phone'"
     ]
    }
   ],
   "source": [
    "obj_s1.student_info(\"Math\",80)"
   ]
  },
  {
   "cell_type": "code",
   "execution_count": 60,
   "id": "1323188f-b1d9-46b8-bb41-3c906b56ec90",
   "metadata": {},
   "outputs": [
    {
     "data": {
      "text/plain": [
       "('Math', 80, 12345)"
      ]
     },
     "execution_count": 60,
     "metadata": {},
     "output_type": "execute_result"
    }
   ],
   "source": [
    "obj_s1.student_info(\"Math\",80,12345)"
   ]
  }
 ],
 "metadata": {
  "kernelspec": {
   "display_name": "Python 3 (ipykernel)",
   "language": "python",
   "name": "python3"
  },
  "language_info": {
   "codemirror_mode": {
    "name": "ipython",
    "version": 3
   },
   "file_extension": ".py",
   "mimetype": "text/x-python",
   "name": "python",
   "nbconvert_exporter": "python",
   "pygments_lexer": "ipython3",
   "version": "3.10.8"
  }
 },
 "nbformat": 4,
 "nbformat_minor": 5
}
